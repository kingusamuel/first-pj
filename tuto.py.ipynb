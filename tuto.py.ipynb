{
 "cells": [
  {
   "cell_type": "code",
   "execution_count": 3,
   "metadata": {},
   "outputs": [
    {
     "name": "stdout",
     "output_type": "stream",
     "text": [
      "Guess Number from 7 to 10 7\n",
      "i love you\n"
     ]
    }
   ],
   "source": [
    "highest = 10\n",
    "answer = 7\n",
    "#Enter the number to be guessed\n",
    "#number = input(\"Guess Number from 7 to 10 \")\n",
    "while number != answer:\n",
    "    number = input(\"Guess Number from 7 to 10 \")\n",
    "#check if number is less than 10\n",
    "    if int(number) < answer:\n",
    "    #code here\n",
    "        print (\"The number you entered is lower than expectation\")\n",
    "    #code here\n",
    "    if int(number) > answer:\n",
    "        print (\"The number you entered is greater than expectation\")\n",
    "    if int(number) == answer:\n",
    "        print (\"i love you\")\n",
    "    if int(number) == answer:\n",
    "        break"
   ]
  },
  {
   "cell_type": "code",
   "execution_count": null,
   "metadata": {},
   "outputs": [],
   "source": []
  }
 ],
 "metadata": {
  "kernelspec": {
   "display_name": "Python 3",
   "language": "python",
   "name": "python3"
  },
  "language_info": {
   "codemirror_mode": {
    "name": "ipython",
    "version": 3
   },
   "file_extension": ".py",
   "mimetype": "text/x-python",
   "name": "python",
   "nbconvert_exporter": "python",
   "pygments_lexer": "ipython3",
   "version": "3.6.4"
  }
 },
 "nbformat": 4,
 "nbformat_minor": 2
}
